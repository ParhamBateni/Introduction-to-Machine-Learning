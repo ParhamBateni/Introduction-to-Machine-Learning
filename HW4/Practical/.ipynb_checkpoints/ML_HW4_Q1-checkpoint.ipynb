{
 "cells": [
  {
   "cell_type": "markdown",
   "metadata": {
    "id": "jmASvBCrx7Pp"
   },
   "source": [
    "<img src='http://www-scf.usc.edu/~ghasemig/images/sharif.png' alt=\"SUT logo\" width=200 height=200 align=left class=\"saturate\" >\n",
    "\n",
    "<br>\n",
    "<font face=\"Times New Roman\">\n",
    "<div dir=ltr align=center>\n",
    "<font color=0F5298 size=7>\n",
    "    Introduction to Machine Learning <br>\n",
    "<font color=2565AE size=5>\n",
    "    Computer Engineering Department <br>\n",
    "    Fall 2022<br>\n",
    "<font color=3C99D size=5>\n",
    "    Homework 4: Practical - Convolutional Neural Networks <br>\n",
    "<font color=696880 size=4>\n",
    "    Arian Amani\n",
    "    \n",
    "    \n",
    "____\n"
   ]
  },
  {
   "cell_type": "markdown",
   "metadata": {
    "id": "hEvi8r_yx7Pu"
   },
   "source": [
    "### Full Name : Amirmohammad izadi\n",
    "### Student Number : 99105283\n",
    "___"
   ]
  },
  {
   "cell_type": "markdown",
   "metadata": {
    "id": "VzidG5lOx7Pv"
   },
   "source": [
    "# Problem\n",
    "This assignment uses PyTorch to build and implement a residual CNN for solving a classification problem. Our goal is to classify handwritten digits from 0 to 9 on the MNIST dataset. You can try larger and more fun datasets if you have access to Google Colab. (for example: [facial emotion detection](https://www.kaggle.com/datasets/msambare/fer2013))\n",
    "\n",
    "* It is highly recommended to run this notebook on Google Colab so that you can utilize its GPU.\n",
    "* If you need to change the inputs of functions you are implementing, or want to add new cells or functions, feel free to do so."
   ]
  },
  {
   "cell_type": "markdown",
   "metadata": {
    "id": "W0bGV8AXO3Yx"
   },
   "source": [
    "# Setup"
   ]
  },
  {
   "cell_type": "code",
   "execution_count": 10,
   "metadata": {
    "id": "CdrZr6HWO2p8"
   },
   "outputs": [],
   "source": [
    "import torch\n",
    "from torch import nn\n",
    "from torch.nn import functional as F\n",
    "from torch.utils.data import Dataset, DataLoader, random_split\n",
    "from torchvision import transforms, datasets\n",
    "\n",
    "from tqdm import tqdm\n",
    "import numpy as np\n",
    "import pandas as pd\n",
    "import matplotlib.pyplot as plt\n",
    "\n",
    "plt.style.use('ggplot')\n",
    "###########################################################\n",
    "##  If you need any other packages, import them below    ##\n",
    "###########################################################\n"
   ]
  },
  {
   "cell_type": "code",
   "execution_count": 11,
   "metadata": {
    "colab": {
     "base_uri": "https://localhost:8080/"
    },
    "id": "alk_r-sOx7P0",
    "outputId": "dfc44f61-9eb5-4111-cd63-70a59be1e17e"
   },
   "outputs": [
    {
     "data": {
      "text/plain": [
       "device(type='cuda')"
      ]
     },
     "execution_count": 11,
     "metadata": {},
     "output_type": "execute_result"
    }
   ],
   "source": [
    "device = torch.device('cuda' if torch.cuda.is_available() else 'cpu')\n",
    "device"
   ]
  },
  {
   "cell_type": "markdown",
   "metadata": {
    "id": "gzydGC2SNuAu"
   },
   "source": [
    "# Prepare The Data (10 Points)"
   ]
  },
  {
   "cell_type": "markdown",
   "metadata": {
    "id": "WNK8-oFFx7P0"
   },
   "source": [
    "Write a composed transformation to transform our dataset's PIL images to tensors and normalize them with ```mean: 0.1307``` and ```std: 0.3081```: "
   ]
  },
  {
   "cell_type": "markdown",
   "metadata": {
    "id": "UfheJao7x7P1"
   },
   "source": [
    "<details>\n",
    "<summary>Hint</summary>\n",
    "<br>\n",
    "<a href=\"https://pytorch.org/vision/stable/generated/torchvision.transforms.Compose.html\">torchvision.transforms.Compose</a>\n",
    "</details>"
   ]
  },
  {
   "cell_type": "code",
   "execution_count": 12,
   "metadata": {
    "id": "X_htKBtRx7P3"
   },
   "outputs": [],
   "source": [
    "###############################################################\n",
    "##                Compose your transformations               ##\n",
    "###############################################################\n",
    "transformation = transforms.Compose([transforms.Resize(28),\n",
    "                                    transforms.ToTensor(),\n",
    "                                    transforms.Normalize(mean=0.1307, std=0.3081)])"
   ]
  },
  {
   "cell_type": "markdown",
   "metadata": {
    "id": "ANdYnd04N0ze"
   },
   "source": [
    "Split the downloaded MNIST dataset into two dataloaders ```train``` & ```val```"
   ]
  },
  {
   "cell_type": "code",
   "execution_count": 13,
   "metadata": {
    "colab": {
     "base_uri": "https://localhost:8080/"
    },
    "id": "rO2-PWK0x7P4",
    "outputId": "8a39cb00-0fd9-40cc-93b3-75882e9fd179"
   },
   "outputs": [
    {
     "name": "stdout",
     "output_type": "stream",
     "text": [
      "60000\n"
     ]
    }
   ],
   "source": [
    "# Download the MNIST dataset\n",
    "mnist_data = datasets.MNIST(root='data/', download=True, transform=transformation)\n",
    "\n",
    "# Number of images in the dataset: 60,000\n",
    "print(len(mnist_data))\n",
    "\n",
    "# Split the dataset into training and validation sets\n",
    "train_data, valid_data = random_split(mnist_data, [50000, 10000]) "
   ]
  },
  {
   "cell_type": "markdown",
   "metadata": {
    "id": "RO_rszbux7P5"
   },
   "source": [
    "Create dataloaders for your train and validation data with ```batch size 16``` and ```shuffle = True``` for train loader."
   ]
  },
  {
   "cell_type": "markdown",
   "metadata": {
    "id": "Z5yedMt2x7P5"
   },
   "source": [
    "<details>\n",
    "<summary>Hint</summary>\n",
    "<br>\n",
    "<a href=\"https://pytorch.org/tutorials/beginner/basics/data_tutorial.html\">DATASETS & DATALOADERS</a>\n",
    "</details>"
   ]
  },
  {
   "cell_type": "code",
   "execution_count": 14,
   "metadata": {
    "id": "4CEUTGaFQI51"
   },
   "outputs": [],
   "source": [
    "###############################################################\n",
    "##           Load the datasets into train/valid              ##\n",
    "##                       dataloaders                         ##\n",
    "###############################################################\n",
    "\n",
    "train_loader = DataLoader(train_data, batch_size=16, shuffle=True)\n",
    "val_loader = DataLoader(valid_data, batch_size=16, shuffle=True)"
   ]
  },
  {
   "cell_type": "markdown",
   "metadata": {
    "id": "HF_40_3rQ5Uv"
   },
   "source": [
    "# Define Model (40 Points)"
   ]
  },
  {
   "cell_type": "markdown",
   "metadata": {
    "id": "tlBTgHSTx7P6"
   },
   "source": [
    "### You need to implement a model with the architecture below:\n",
    "[Input: (BS, 1, 28, 28)] -- > [Conv2D (BS, 16, 28, 28)] --> ReLU --> [MaxPool2D (BS, 16, 14, 14): Residual1]\n",
    "\n",
    "--> [Conv2D (BS, 16, 14, 14)] --> ReLU --> [Conv2D (BS, 16, 14, 14)] --> ReLU --> [Addition with Residual1]\n",
    "\n",
    "--> [MaxPool2D (BS, 16, 7, 7)] --> [Conv2D (BS, 64, 7, 7)] --> [ReLU: Residual2]\n",
    "\n",
    "--> [Conv2D (BS, 64, 7, 7)] --> ReLU --> [Conv2D (BS, 64, 7, 7)] --> ReLU --> [Addition with Residual2]\n",
    "\n",
    "--> [GlobalAveragePooling (BS, 64, 1, 1)] --> [Flatten (BS, 64)] --> [Linear (BS, 10)] --> ReLU --> OUT\n",
    "\n",
    "Here you can see the drawn schematic of the architecture, too: [Link](https://drive.google.com/file/d/1gQzafyxTkuvQr8T-xUncLmedX94LnY_l/view?usp=share_link)"
   ]
  },
  {
   "cell_type": "markdown",
   "metadata": {
    "id": "3hs9w5Rcx7P7"
   },
   "source": [
    "<details>\n",
    "<summary>Hint</summary>\n",
    "<br>\n",
    "These might be helpful:\n",
    "<br>\n",
    "<a href=\"https://pytorch.org/docs/stable/generated/torch.clone.html\">TORCH.CLONE</a>\n",
    "<br><br>\n",
    "<a href=\"https://pytorch.org/docs/master/generated/torch.nn.AdaptiveAvgPool2d.html#torch.nn.AdaptiveAvgPool2d\">AdaptiveAvgPool2d</a> with output size (1, 1) for global average pooling\n",
    "<br><br>\n",
    "<a href=\"https://arxiv.org/pdf/1512.03385.pdf\">Deep Residual Learning for Image Recognition</a>\n",
    "</details>"
   ]
  },
  {
   "cell_type": "code",
   "execution_count": 15,
   "metadata": {
    "id": "jQfGVj2rQ90G"
   },
   "outputs": [],
   "source": [
    "#####################################\n",
    "##        Define your model        ##\n",
    "##            Your Code            ##\n",
    "#####################################\n",
    "class ResidualClassifier(nn.Module):\n",
    "    def __init__(self):\n",
    "        super(ResidualClassifier, self).__init__()\n",
    "        self.part1 = nn.Sequential(\n",
    "          nn.Conv2d(in_channels=1, out_channels=16, kernel_size=3, stride=1, padding=1),\n",
    "          nn.ReLU(),\n",
    "          nn.BatchNorm2d(16),\n",
    "          nn.MaxPool2d(kernel_size=2, stride=2) \n",
    "        )\n",
    "\n",
    "        self.part2 = nn.Sequential(\n",
    "          nn.Conv2d(in_channels=16, out_channels=16, kernel_size=3, stride=1, padding=1),\n",
    "          nn.ReLU(),\n",
    "          nn.Conv2d(in_channels=16, out_channels=16, kernel_size=3, stride=1, padding=1),\n",
    "          nn.ReLU(),\n",
    "          nn.BatchNorm2d(16),\n",
    "        )\n",
    "\n",
    "        self.part3 = nn.Sequential(\n",
    "          nn.MaxPool2d(kernel_size=2, stride=2),\n",
    "          nn.Conv2d(in_channels=16, out_channels=64, kernel_size=3, stride=1, padding=1),\n",
    "          nn.ReLU(),\n",
    "          nn.BatchNorm2d(64),\n",
    "        )\n",
    "\n",
    "        self.part4 = nn.Sequential(\n",
    "          nn.Conv2d(in_channels=64, out_channels=64, kernel_size=3, stride=1, padding=1),\n",
    "          nn.ReLU(),\n",
    "          nn.Conv2d(in_channels=64, out_channels=64, kernel_size=3, stride=1, padding=1),\n",
    "          nn.ReLU(),\n",
    "          nn.BatchNorm2d(64),\n",
    "        )\n",
    "\n",
    "        self.part5 = nn.Sequential(\n",
    "          nn.AdaptiveAvgPool2d(1),\n",
    "          nn.Flatten(),\n",
    "          nn.Linear(64, 10), \n",
    "          nn.ReLU()\n",
    "        )\n",
    "\n",
    "    def forward(self, x):\n",
    "        res1 = self.part1(x)\n",
    "        x = self.part2(res1)\n",
    "        res2 = self.part3(res1 + x)\n",
    "        x = self.part4(res2)\n",
    "        out = self.part5(x + res2)\n",
    "        return out"
   ]
  },
  {
   "cell_type": "markdown",
   "metadata": {
    "id": "1jZeKXV9Rbq3"
   },
   "source": [
    "# Train Model (30 Points)"
   ]
  },
  {
   "cell_type": "code",
   "execution_count": 16,
   "metadata": {
    "id": "koMk0TkKRazn"
   },
   "outputs": [],
   "source": [
    "######################################################################\n",
    "##        Instantiate model, define hyper parameters, optimizer,    ##\n",
    "##        loss function and etc                                     ##\n",
    "# ######################################################################\n",
    "learning_rate = 1e-3\n",
    "model = ResidualClassifier().to(device)\n",
    "criterion = nn.CrossEntropyLoss()\n",
    "optimizer = torch.optim.SGD(model.parameters(), lr = learning_rate)\n"
   ]
  },
  {
   "cell_type": "code",
   "execution_count": 17,
   "metadata": {
    "colab": {
     "base_uri": "https://localhost:8080/"
    },
    "id": "sDrUepR7x7P8",
    "outputId": "9c327e2f-0da6-4e3e-9469-54684d4edfe2"
   },
   "outputs": [
    {
     "name": "stdout",
     "output_type": "stream",
     "text": [
      "epoch: 1   train_loss: 1.6709449570465087   train_accuracy: 0.5484\n",
      "epoch: 1   val_loss: 1.0129566286087037   val_accuracy: 0.8068\n",
      "epoch: 2   train_loss: 0.6253019590711594   train_accuracy: 0.88508\n",
      "epoch: 2   val_loss: 0.37864456245899203   val_accuracy: 0.9354\n",
      "epoch: 3   train_loss: 0.28683173068761825   train_accuracy: 0.94566\n",
      "epoch: 3   val_loss: 0.23447177451848983   val_accuracy: 0.9494\n",
      "epoch: 4   train_loss: 0.19333807152211666   train_accuracy: 0.95896\n",
      "epoch: 4   val_loss: 0.17514665808975696   val_accuracy: 0.9588\n",
      "epoch: 5   train_loss: 0.1516429719170928   train_accuracy: 0.9657\n",
      "epoch: 5   val_loss: 0.1449351820886135   val_accuracy: 0.9665\n",
      "epoch: 6   train_loss: 0.12442685909837484   train_accuracy: 0.97152\n",
      "epoch: 6   val_loss: 0.12225130692571401   val_accuracy: 0.9723\n",
      "epoch: 7   train_loss: 0.107721769130826   train_accuracy: 0.9753\n",
      "epoch: 7   val_loss: 0.10578408844918012   val_accuracy: 0.9747\n",
      "epoch: 8   train_loss: 0.09654651616111398   train_accuracy: 0.97784\n",
      "epoch: 8   val_loss: 0.10002971563637257   val_accuracy: 0.9742\n",
      "epoch: 9   train_loss: 0.08631598866388202   train_accuracy: 0.97898\n",
      "epoch: 9   val_loss: 0.09158154601156712   val_accuracy: 0.9764\n",
      "epoch: 10   train_loss: 0.0773501716953516   train_accuracy: 0.98112\n",
      "epoch: 10   val_loss: 0.08820013579055667   val_accuracy: 0.9779\n",
      "epoch: 11   train_loss: 0.07180703213527799   train_accuracy: 0.98292\n",
      "epoch: 11   val_loss: 0.07952670251093805   val_accuracy: 0.9804\n",
      "epoch: 12   train_loss: 0.06672337513811887   train_accuracy: 0.9837\n",
      "epoch: 12   val_loss: 0.077931824567914   val_accuracy: 0.9801\n",
      "epoch: 13   train_loss: 0.061122219408005475   train_accuracy: 0.98532\n",
      "epoch: 13   val_loss: 0.07111789561919868   val_accuracy: 0.982\n",
      "epoch: 14   train_loss: 0.05866234841838479   train_accuracy: 0.9848\n",
      "epoch: 14   val_loss: 0.06942122267000377   val_accuracy: 0.9827\n",
      "epoch: 15   train_loss: 0.054149878889918325   train_accuracy: 0.98734\n",
      "epoch: 15   val_loss: 0.06611790926419199   val_accuracy: 0.9817\n",
      "epoch: 16   train_loss: 0.05037731872305274   train_accuracy: 0.98728\n",
      "epoch: 16   val_loss: 0.06646968142017722   val_accuracy: 0.9826\n",
      "epoch: 17   train_loss: 0.048779353733621536   train_accuracy: 0.98782\n",
      "epoch: 17   val_loss: 0.06413508859016001   val_accuracy: 0.982\n",
      "epoch: 18   train_loss: 0.04718732408344745   train_accuracy: 0.98822\n",
      "epoch: 18   val_loss: 0.06481352727171033   val_accuracy: 0.9828\n",
      "epoch: 19   train_loss: 0.04520441298857331   train_accuracy: 0.98874\n",
      "epoch: 19   val_loss: 0.05910986095033586   val_accuracy: 0.9837\n",
      "epoch: 20   train_loss: 0.04257817104786635   train_accuracy: 0.98918\n",
      "epoch: 20   val_loss: 0.05565950990319252   val_accuracy: 0.9852\n"
     ]
    }
   ],
   "source": [
    "######################################################################\n",
    "##        Train your model (Complete the code below)                ##\n",
    "######################################################################\n",
    "total_train_step = len(train_loader)\n",
    "total_val_step = len(val_loader)\n",
    "number_of_train_samples = len(train_loader.dataset)\n",
    "number_of_val_samples = len(val_loader.dataset)\n",
    "num_epochs = 20\n",
    "loss_epoch = 0\n",
    "number_of_correct_predict = 0\n",
    "all_train_losses = []\n",
    "all_train_accuracies = []\n",
    "all_val_losses = []\n",
    "all_val_accuracies = []\n",
    "best_accuracy = 0\n",
    "best_model = None\n",
    "\n",
    "for epoch in range(num_epochs):\n",
    "    model.train()\n",
    "    loss_epoch = 0\n",
    "    number_of_correct_predict = 0\n",
    "    \n",
    "    for images, labels in train_loader:  \n",
    "        images, labels = images.to(device), labels.to(device)\n",
    "        predict = model(images)\n",
    "        loss = criterion(predict, labels)\n",
    "\n",
    "        # backpropagation\n",
    "        optimizer.zero_grad()\n",
    "        loss.backward()\n",
    "        optimizer.step()\n",
    "\n",
    "        # update loss and correct_predict\n",
    "        loss_epoch += loss.item()\n",
    "        number_of_correct_predict += (predict.argmax(1) == labels).type(torch.float).sum().item()\n",
    "\n",
    "    mean_loss_batch = loss_epoch / total_train_step\n",
    "    all_train_losses.append(mean_loss_batch)\n",
    "    accuracy = number_of_correct_predict / number_of_train_samples\n",
    "    all_train_accuracies.append(accuracy)\n",
    "\n",
    "    # print loss and accuracy for each epoch\n",
    "    print(\"epoch: \" + str(epoch + 1) + \"   train_loss: \" + str(mean_loss_batch) + \"   train_accuracy: \" + str(accuracy))\n",
    "\n",
    "    with torch.no_grad():\n",
    "        loss_epoch = 0\n",
    "        number_of_correct_predict = 0\n",
    "\n",
    "        for images, labels in val_loader:\n",
    "            images, labels = images.to(device), labels.to(device)\n",
    "            predict = model(images)\n",
    "            loss = criterion(predict, labels)\n",
    "\n",
    "            loss_epoch += loss.item()\n",
    "            number_of_correct_predict += (predict.argmax(1) == labels).type(torch.float).sum().item()\n",
    "\n",
    "        mean_loss_batch = loss_epoch / total_val_step\n",
    "        all_val_losses.append(mean_loss_batch)\n",
    "        accuracy = number_of_correct_predict / number_of_val_samples\n",
    "        all_val_accuracies.append(accuracy)\n",
    "        \n",
    "    print(\"epoch: \" + str(epoch + 1) + \"   val_loss: \" + str(mean_loss_batch) + \"   val_accuracy: \" + str(accuracy))\n",
    "\n",
    "    if best_accuracy < accuracy:\n",
    "      best_accuracy = accuracy\n",
    "      best_model = model"
   ]
  },
  {
   "cell_type": "code",
   "execution_count": 21,
   "metadata": {
    "colab": {
     "base_uri": "https://localhost:8080/",
     "height": 1000
    },
    "id": "_YSWvcEGSVor",
    "outputId": "d53192ab-ddd5-45ee-fef1-f0c9b7f904ec"
   },
   "outputs": [
    {
     "data": {
      "image/png": "[encoded data removed]",
      "text/plain": [
       "<Figure size 504x252 with 1 Axes>"
      ]
     },
     "metadata": {},
     "output_type": "display_data"
    },
    {
     "data": {
      "image/png": "[encoded data removed]",
      "text/plain": [
       "<Figure size 504x252 with 1 Axes>"
      ]
     },
     "metadata": {},
     "output_type": "display_data"
    },
    {
     "data": {
      "image/png": "[encoded data removed]",
      "text/plain": [
       "<Figure size 504x252 with 1 Axes>"
      ]
     },
     "metadata": {},
     "output_type": "display_data"
    },
    {
     "data": {
      "image/png": "[encoded data removed]",
      "text/plain": [
       "<Figure size 504x252 with 1 Axes>"
      ]
     },
     "metadata": {},
     "output_type": "display_data"
    }
   ],
   "source": [
    "##############################################################\n",
    "##          Plot metrics graph for different epochs         ##\n",
    "##                        Your Code                         ##\n",
    "##############################################################\n",
    "\n",
    "plt.rcParams[\"figure.figsize\"] = [7.00, 3.50]\n",
    "x = [i for i in range(1, 21)]\n",
    "y = all_train_losses\n",
    "default_x_ticks = range(len(x))\n",
    "plt.plot(default_x_ticks, y, color = 'red')\n",
    "plt.xticks(default_x_ticks, x)\n",
    "plt.xlabel('Number of Epoch')\n",
    "plt.ylabel('Loss')\n",
    "plt.title('Train Losses')\n",
    "plt.show()\n",
    "\n",
    "y = all_train_accuracies\n",
    "plt.plot(default_x_ticks, y, color = 'blue')\n",
    "plt.xticks(default_x_ticks, x)\n",
    "plt.xlabel('Number of Epoch')\n",
    "plt.ylabel('Accuracy')\n",
    "plt.title('Train Accuracies')\n",
    "plt.show()\n",
    "\n",
    "y = all_val_losses\n",
    "plt.plot(default_x_ticks, y, color = 'red')\n",
    "plt.xticks(default_x_ticks, x)\n",
    "plt.xlabel('Number of Epoch')\n",
    "plt.ylabel('Loss')\n",
    "plt.title('Validation Losses')\n",
    "plt.show()\n",
    "\n",
    "y = all_val_accuracies\n",
    "plt.plot(default_x_ticks, y, color = 'blue')\n",
    "plt.xticks(default_x_ticks, x)\n",
    "plt.xlabel('Number of Epoch')\n",
    "plt.ylabel('Accuracy')\n",
    "plt.title('Validation Accuracies')\n",
    "plt.show()"
   ]
  },
  {
   "cell_type": "markdown",
   "metadata": {
    "id": "LzhCrIFkSE1D"
   },
   "source": [
    "# Test Model (20 Points)"
   ]
  },
  {
   "cell_type": "code",
   "execution_count": 37,
   "metadata": {
    "colab": {
     "base_uri": "https://localhost:8080/"
    },
    "id": "ihixveNISFwE",
    "outputId": "5a911d25-59b7-4fc9-97cf-a2755258dfc9"
   },
   "outputs": [
    {
     "name": "stdout",
     "output_type": "stream",
     "text": [
      "10000\n",
      "loss: 0.03167862824541012   accuracy: 0.9899\n"
     ]
    }
   ],
   "source": [
    "##################################################\n",
    "##          Test your model on test-set         ##\n",
    "##          and plot confusion matrix           ##\n",
    "##################################################\n",
    "\n",
    "test_data = datasets.MNIST(root='data/', download=True, transform=transformation, train=False)\n",
    "test_loader = DataLoader(test_data, batch_size=64, shuffle=False)\n",
    "print(len(test_data))\n",
    "number_of_batches = len(test_loader)\n",
    "number_of_test_samples = len(test_loader.dataset)\n",
    "\n",
    "loss_epoch = 0\n",
    "number_of_correct_predict = 0\n",
    "labels = []\n",
    "predict_labels = []\n",
    "\n",
    "with torch.no_grad():\n",
    "  best_model.eval()\n",
    "  for X,y in test_loader:\n",
    "    X, y = X.to(device), y.to(device)\n",
    "    for i in range(len(y)):\n",
    "      labels.append(y[i].cpu())\n",
    "    predict = best_model(X)\n",
    "    for i in range(len(predict.argmax(1))):\n",
    "      predict_labels.append(predict.argmax(1)[i].cpu())\n",
    "\n",
    "    loss = criterion(predict, y)\n",
    "\n",
    "      # update loss and correct_predict\n",
    "\n",
    "    loss_epoch += loss.item()\n",
    "    number_of_correct_predict += (predict.argmax(1) == y).type(torch.float).sum().item()\n",
    "\n",
    "loss_of_test = loss_epoch / number_of_batches\n",
    "accuracy = number_of_correct_predict / number_of_test_samples\n",
    "    \n",
    "# print loss and accuracy\n",
    "print(\"loss: \" + str(loss_of_test) + \"   accuracy: \" + str(accuracy))"
   ]
  },
  {
   "cell_type": "code",
   "execution_count": 38,
   "metadata": {
    "colab": {
     "base_uri": "https://localhost:8080/",
     "height": 599
    },
    "id": "A61KUkhZMjXY",
    "outputId": "9a94d4e3-c478-45d5-eac6-15d21b864bfa"
   },
   "outputs": [
    {
     "data": {
      "text/plain": [
       "<sklearn.metrics._plot.confusion_matrix.ConfusionMatrixDisplay at 0x7f8c52a620d0>"
      ]
     },
     "execution_count": 38,
     "metadata": {},
     "output_type": "execute_result"
    },
    {
     "data": {
      "image/png": "[encoded data removed]",
      "text/plain": [
       "<Figure size 720x720 with 2 Axes>"
      ]
     },
     "metadata": {},
     "output_type": "display_data"
    }
   ],
   "source": [
    "from sklearn import metrics\n",
    "fig = plt.figure(figsize=(10, 10))\n",
    "ax = fig.add_subplot(1, 1, 1)\n",
    "cm = metrics.confusion_matrix(labels, predict_labels)\n",
    "cm = metrics.ConfusionMatrixDisplay(cm, display_labels=range(10))\n",
    "cm.plot(values_format='d', cmap='PuBuGn', ax=ax)"
   ]
  }
 ],
 "metadata": {
  "accelerator": "GPU",
  "colab": {
   "provenance": []
  },
  "gpuClass": "standard",
  "kernelspec": {
   "display_name": "Python 3 (ipykernel)",
   "language": "python",
   "name": "python3"
  },
  "language_info": {
   "codemirror_mode": {
    "name": "ipython",
    "version": 3
   },
   "file_extension": ".py",
   "mimetype": "text/x-python",
   "name": "python",
   "nbconvert_exporter": "python",
   "pygments_lexer": "ipython3",
   "version": "3.11.1"
  },
  "varInspector": {
   "cols": {
    "lenName": 16,
    "lenType": 16,
    "lenVar": 40
   },
   "kernels_config": {
    "python": {
     "delete_cmd_postfix": "",
     "delete_cmd_prefix": "del ",
     "library": "var_list.py",
     "varRefreshCmd": "print(var_dic_list())"
    },
    "r": {
     "delete_cmd_postfix": ") ",
     "delete_cmd_prefix": "rm(",
     "library": "var_list.r",
     "varRefreshCmd": "cat(var_dic_list()) "
    }
   },
   "types_to_exclude": [
    "module",
    "function",
    "builtin_function_or_method",
    "instance",
    "_Feature"
   ],
   "window_display": false
  },
  "vscode": {
   "interpreter": {
    "hash": "bb93c294e1388593f3ce88f4c5e050b65c17fc54b955fa171f33a4b9b3d10054"
   }
  }
 },
 "nbformat": 4,
 "nbformat_minor": 1
}
